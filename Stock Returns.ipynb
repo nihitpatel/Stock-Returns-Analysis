{
 "cells": [
  {
   "cell_type": "code",
   "execution_count": 35,
   "metadata": {},
   "outputs": [],
   "source": [
    "import pandas as pd\n",
    "import yfinance as yf\n",
    "from datetime import datetime,date\n",
    "from dateutil.relativedelta import relativedelta"
   ]
  },
  {
   "cell_type": "code",
   "execution_count": 3,
   "metadata": {},
   "outputs": [
    {
     "name": "stdout",
     "output_type": "stream",
     "text": [
      "2011-04-28 08:43:49.031340 2021-04-28 08:43:49.031340\n",
      "[*********************100%***********************]  1 of 1 completed\n"
     ]
    }
   ],
   "source": [
    "end = datetime.now()\n",
    "start = datetime.now() - relativedelta(years=10)\n",
    "print(start,end)\n",
    "data = yf.download('RELIANCE'+'.NS',start=start,end=end,threads=True)"
   ]
  },
  {
   "cell_type": "code",
   "execution_count": 18,
   "metadata": {},
   "outputs": [
    {
     "data": {
      "text/html": [
       "<div>\n",
       "<style scoped>\n",
       "    .dataframe tbody tr th:only-of-type {\n",
       "        vertical-align: middle;\n",
       "    }\n",
       "\n",
       "    .dataframe tbody tr th {\n",
       "        vertical-align: top;\n",
       "    }\n",
       "\n",
       "    .dataframe thead th {\n",
       "        text-align: right;\n",
       "    }\n",
       "</style>\n",
       "<table border=\"1\" class=\"dataframe\">\n",
       "  <thead>\n",
       "    <tr style=\"text-align: right;\">\n",
       "      <th></th>\n",
       "      <th>Open</th>\n",
       "      <th>High</th>\n",
       "      <th>Low</th>\n",
       "      <th>Close</th>\n",
       "      <th>Adj Close</th>\n",
       "      <th>Volume</th>\n",
       "    </tr>\n",
       "    <tr>\n",
       "      <th>Date</th>\n",
       "      <th></th>\n",
       "      <th></th>\n",
       "      <th></th>\n",
       "      <th></th>\n",
       "      <th></th>\n",
       "      <th></th>\n",
       "    </tr>\n",
       "  </thead>\n",
       "  <tbody>\n",
       "    <tr>\n",
       "      <th>2011-04-28</th>\n",
       "      <td>491.342560</td>\n",
       "      <td>491.837860</td>\n",
       "      <td>480.445862</td>\n",
       "      <td>481.634583</td>\n",
       "      <td>442.249115</td>\n",
       "      <td>16481230</td>\n",
       "    </tr>\n",
       "    <tr>\n",
       "      <th>2011-04-29</th>\n",
       "      <td>482.922363</td>\n",
       "      <td>489.361328</td>\n",
       "      <td>481.089752</td>\n",
       "      <td>487.256287</td>\n",
       "      <td>447.411163</td>\n",
       "      <td>6893126</td>\n",
       "    </tr>\n",
       "    <tr>\n",
       "      <th>2011-05-02</th>\n",
       "      <td>487.330597</td>\n",
       "      <td>488.766968</td>\n",
       "      <td>476.136688</td>\n",
       "      <td>477.845490</td>\n",
       "      <td>438.769897</td>\n",
       "      <td>6280802</td>\n",
       "    </tr>\n",
       "    <tr>\n",
       "      <th>2011-05-03</th>\n",
       "      <td>478.018860</td>\n",
       "      <td>479.158051</td>\n",
       "      <td>466.106781</td>\n",
       "      <td>467.518402</td>\n",
       "      <td>429.287262</td>\n",
       "      <td>10166156</td>\n",
       "    </tr>\n",
       "    <tr>\n",
       "      <th>2011-05-04</th>\n",
       "      <td>468.063232</td>\n",
       "      <td>473.883057</td>\n",
       "      <td>465.586700</td>\n",
       "      <td>469.375793</td>\n",
       "      <td>430.992798</td>\n",
       "      <td>5384888</td>\n",
       "    </tr>\n",
       "    <tr>\n",
       "      <th>...</th>\n",
       "      <td>...</td>\n",
       "      <td>...</td>\n",
       "      <td>...</td>\n",
       "      <td>...</td>\n",
       "      <td>...</td>\n",
       "      <td>...</td>\n",
       "    </tr>\n",
       "    <tr>\n",
       "      <th>2021-04-20</th>\n",
       "      <td>1910.500000</td>\n",
       "      <td>1919.000000</td>\n",
       "      <td>1890.449951</td>\n",
       "      <td>1901.150024</td>\n",
       "      <td>1901.150024</td>\n",
       "      <td>7939490</td>\n",
       "    </tr>\n",
       "    <tr>\n",
       "      <th>2021-04-22</th>\n",
       "      <td>1892.250000</td>\n",
       "      <td>1914.449951</td>\n",
       "      <td>1876.699951</td>\n",
       "      <td>1906.400024</td>\n",
       "      <td>1906.400024</td>\n",
       "      <td>6687573</td>\n",
       "    </tr>\n",
       "    <tr>\n",
       "      <th>2021-04-23</th>\n",
       "      <td>1906.000000</td>\n",
       "      <td>1918.900024</td>\n",
       "      <td>1895.349976</td>\n",
       "      <td>1904.349976</td>\n",
       "      <td>1904.349976</td>\n",
       "      <td>5459016</td>\n",
       "    </tr>\n",
       "    <tr>\n",
       "      <th>2021-04-26</th>\n",
       "      <td>1920.000000</td>\n",
       "      <td>1962.000000</td>\n",
       "      <td>1911.500000</td>\n",
       "      <td>1937.849976</td>\n",
       "      <td>1937.849976</td>\n",
       "      <td>9620785</td>\n",
       "    </tr>\n",
       "    <tr>\n",
       "      <th>2021-04-27</th>\n",
       "      <td>1940.000000</td>\n",
       "      <td>1997.199951</td>\n",
       "      <td>1938.250000</td>\n",
       "      <td>1988.650024</td>\n",
       "      <td>1988.650024</td>\n",
       "      <td>9226547</td>\n",
       "    </tr>\n",
       "  </tbody>\n",
       "</table>\n",
       "<p>2460 rows × 6 columns</p>\n",
       "</div>"
      ],
      "text/plain": [
       "                   Open         High          Low        Close    Adj Close  \\\n",
       "Date                                                                          \n",
       "2011-04-28   491.342560   491.837860   480.445862   481.634583   442.249115   \n",
       "2011-04-29   482.922363   489.361328   481.089752   487.256287   447.411163   \n",
       "2011-05-02   487.330597   488.766968   476.136688   477.845490   438.769897   \n",
       "2011-05-03   478.018860   479.158051   466.106781   467.518402   429.287262   \n",
       "2011-05-04   468.063232   473.883057   465.586700   469.375793   430.992798   \n",
       "...                 ...          ...          ...          ...          ...   \n",
       "2021-04-20  1910.500000  1919.000000  1890.449951  1901.150024  1901.150024   \n",
       "2021-04-22  1892.250000  1914.449951  1876.699951  1906.400024  1906.400024   \n",
       "2021-04-23  1906.000000  1918.900024  1895.349976  1904.349976  1904.349976   \n",
       "2021-04-26  1920.000000  1962.000000  1911.500000  1937.849976  1937.849976   \n",
       "2021-04-27  1940.000000  1997.199951  1938.250000  1988.650024  1988.650024   \n",
       "\n",
       "              Volume  \n",
       "Date                  \n",
       "2011-04-28  16481230  \n",
       "2011-04-29   6893126  \n",
       "2011-05-02   6280802  \n",
       "2011-05-03  10166156  \n",
       "2011-05-04   5384888  \n",
       "...              ...  \n",
       "2021-04-20   7939490  \n",
       "2021-04-22   6687573  \n",
       "2021-04-23   5459016  \n",
       "2021-04-26   9620785  \n",
       "2021-04-27   9226547  \n",
       "\n",
       "[2460 rows x 6 columns]"
      ]
     },
     "execution_count": 18,
     "metadata": {},
     "output_type": "execute_result"
    }
   ],
   "source": [
    "data"
   ]
  },
  {
   "cell_type": "code",
   "execution_count": 83,
   "metadata": {},
   "outputs": [
    {
     "data": {
      "text/plain": [
       "2.6214644821906177"
      ]
     },
     "execution_count": 83,
     "metadata": {},
     "output_type": "execute_result"
    }
   ],
   "source": [
    "daily = (100 * data.Close[-1])/data.Close[-2] - 100\n",
    "daily"
   ]
  },
  {
   "cell_type": "code",
   "execution_count": 84,
   "metadata": {},
   "outputs": [
    {
     "name": "stdout",
     "output_type": "stream",
     "text": [
      "2.6214644821906177\n"
     ]
    }
   ],
   "source": [
    "daily = data.index[-1] - relativedelta(days=1)\n",
    "\n",
    "while True :\n",
    "    try :\n",
    "        print((100 * data.Close[-1])/data.loc[daily.strftime(\"%Y-%m-%d\")].Close - 100) \n",
    "        break\n",
    "    except :\n",
    "        daily = daily - relativedelta(days=1)"
   ]
  },
  {
   "cell_type": "code",
   "execution_count": null,
   "metadata": {},
   "outputs": [],
   "source": [
    "dates = data.index[-1] - relativedelta(days=0,weeks=ind[1],months=ind[2],years=ind[3])\n"
   ]
  },
  {
   "cell_type": "code",
   "execution_count": 90,
   "metadata": {},
   "outputs": [
    {
     "data": {
      "text/plain": [
       "Date\n",
       "2021-04-26    1937.849976\n",
       "2021-04-27    1988.650024\n",
       "Name: Close, dtype: float64"
      ]
     },
     "execution_count": 90,
     "metadata": {},
     "output_type": "execute_result"
    }
   ],
   "source": [
    "data.loc[daily:,'Close']"
   ]
  },
  {
   "cell_type": "code",
   "execution_count": 85,
   "metadata": {},
   "outputs": [
    {
     "name": "stdout",
     "output_type": "stream",
     "text": [
      "4.602477388756711\n"
     ]
    }
   ],
   "source": [
    "weekly = data.index[-1] - relativedelta(weeks=1)\n",
    "\n",
    "while True :\n",
    "    try :\n",
    "        print((100 * data.Close[-1])/data.loc[weekly.strftime(\"%Y-%m-%d\")].Close - 100) \n",
    "        break\n",
    "    except :\n",
    "        weekly = weekly + relativedelta(days=1)"
   ]
  },
  {
   "cell_type": "code",
   "execution_count": 72,
   "metadata": {},
   "outputs": [
    {
     "name": "stdout",
     "output_type": "stream",
     "text": [
      "-2.003154951754766\n"
     ]
    }
   ],
   "source": [
    "monthly = data.index[-1] - relativedelta(months=1)\n",
    "\n",
    "while True :\n",
    "    try :\n",
    "        print((100 * data['Adj Close'][-1])/data.loc[monthly.strftime(\"%Y-%m-%d\")]['Adj Close'] - 100) \n",
    "        break\n",
    "    except :\n",
    "        monthly = monthly + relativedelta(days=1)"
   ]
  },
  {
   "cell_type": "code",
   "execution_count": 73,
   "metadata": {},
   "outputs": [
    {
     "name": "stdout",
     "output_type": "stream",
     "text": [
      "4.9419537949373336\n"
     ]
    }
   ],
   "source": [
    "month_3 = data.index[-1] - relativedelta(months=3)\n",
    "\n",
    "while True :\n",
    "    try :\n",
    "        print((100 * data.Close[-1])/data.loc[month_3.strftime(\"%Y-%m-%d\")].Close - 100) \n",
    "        break\n",
    "    except :\n",
    "        month_3 = month_3 + relativedelta(days=1)"
   ]
  },
  {
   "cell_type": "code",
   "execution_count": 74,
   "metadata": {},
   "outputs": [
    {
     "name": "stdout",
     "output_type": "stream",
     "text": [
      "-2.2536237692768424\n"
     ]
    }
   ],
   "source": [
    "month_6 = data.index[-1] - relativedelta(months=6)\n",
    "\n",
    "while True :\n",
    "    try :\n",
    "        print((100 * data.Close[-1])/data.loc[month_6.strftime(\"%Y-%m-%d\")].Close - 100) \n",
    "        break\n",
    "    except :\n",
    "        month_6 = month_6 + relativedelta(days=1)"
   ]
  },
  {
   "cell_type": "code",
   "execution_count": 75,
   "metadata": {},
   "outputs": [
    {
     "name": "stdout",
     "output_type": "stream",
     "text": [
      "0.05786286360063286\n"
     ]
    }
   ],
   "source": [
    "today_d = date.today()\n",
    "year = today_d.year\n",
    "\n",
    "ytd = datetime(year,1,1)\n",
    "\n",
    "while True :\n",
    "    try :\n",
    "        print((100 * data.Close[-1])/data.loc[ytd.strftime(\"%Y-%m-%d\")].Close - 100) \n",
    "        break\n",
    "    except :\n",
    "        ytd = ytd + relativedelta(days=1)\n"
   ]
  },
  {
   "cell_type": "code",
   "execution_count": 76,
   "metadata": {},
   "outputs": [
    {
     "name": "stdout",
     "output_type": "stream",
     "text": [
      "40.40918827028446\n"
     ]
    }
   ],
   "source": [
    "yearly = data.index[-1] - relativedelta(years=1)\n",
    "\n",
    "while True :\n",
    "    try :\n",
    "        print((100 * data.Close[-1])/data.loc[yearly.strftime(\"%Y-%m-%d\")].Close - 100) \n",
    "        break\n",
    "    except :\n",
    "        yearly = yearly + relativedelta(days=1)"
   ]
  },
  {
   "cell_type": "code",
   "execution_count": 77,
   "metadata": {},
   "outputs": [
    {
     "name": "stdout",
     "output_type": "stream",
     "text": [
      "44.1341561589071\n"
     ]
    }
   ],
   "source": [
    "year_2 = data.index[-1] - relativedelta(years=2)\n",
    "\n",
    "while True :\n",
    "    try :\n",
    "        print((100 * data.Close[-1])/data.loc[year_2.strftime(\"%Y-%m-%d\")].Close - 100) \n",
    "        break\n",
    "    except :\n",
    "        year_2 = year_2 + relativedelta(days=1)"
   ]
  },
  {
   "cell_type": "code",
   "execution_count": 78,
   "metadata": {},
   "outputs": [
    {
     "name": "stdout",
     "output_type": "stream",
     "text": [
      "101.4955748890406\n"
     ]
    }
   ],
   "source": [
    "year_3 = data.index[-1] - relativedelta(years=3)\n",
    "\n",
    "while True :\n",
    "    try :\n",
    "        print((100 * data.Close[-1])/data.loc[year_3.strftime(\"%Y-%m-%d\")].Close - 100) \n",
    "        break\n",
    "    except :\n",
    "        year_3 = year_3 + relativedelta(days=1)"
   ]
  },
  {
   "cell_type": "code",
   "execution_count": 79,
   "metadata": {},
   "outputs": [
    {
     "name": "stdout",
     "output_type": "stream",
     "text": [
      "293.85922736021035\n"
     ]
    }
   ],
   "source": [
    "year_5 = data.index[-1] - relativedelta(years=5)\n",
    "\n",
    "while True :\n",
    "    try :\n",
    "        print((100 * data.Close[-1])/data.loc[year_5.strftime(\"%Y-%m-%d\")].Close - 100) \n",
    "        break\n",
    "    except :\n",
    "        year_5 = year_5 + relativedelta(days=1)"
   ]
  },
  {
   "cell_type": "code",
   "execution_count": 80,
   "metadata": {},
   "outputs": [
    {
     "name": "stdout",
     "output_type": "stream",
     "text": [
      "324.8678141464552\n"
     ]
    }
   ],
   "source": [
    "year_7 = data.index[-1] - relativedelta(years=7) \n",
    "\n",
    "while True :\n",
    "    try :\n",
    "        print((100 * data.Close[-1])/data.loc[year_7.strftime(\"%Y-%m-%d\")].Close - 100) \n",
    "        break\n",
    "    except :\n",
    "        year_7 = year_7 + relativedelta(days=1)"
   ]
  },
  {
   "cell_type": "code",
   "execution_count": 81,
   "metadata": {},
   "outputs": [
    {
     "name": "stdout",
     "output_type": "stream",
     "text": [
      "304.7379948451934\n"
     ]
    }
   ],
   "source": [
    "year_10 = data.index[-1] - relativedelta(years=10)\n",
    "\n",
    "while True :\n",
    "    try :\n",
    "        print((100 * data.Close[-1])/data.loc[year_10.strftime(\"%Y-%m-%d\")].Open - 100) \n",
    "        break\n",
    "    except :\n",
    "        year_10 = year_10 + relativedelta(days=1)"
   ]
  },
  {
   "cell_type": "code",
   "execution_count": null,
   "metadata": {},
   "outputs": [],
   "source": []
  },
  {
   "cell_type": "code",
   "execution_count": null,
   "metadata": {},
   "outputs": [],
   "source": []
  },
  {
   "cell_type": "code",
   "execution_count": null,
   "metadata": {},
   "outputs": [],
   "source": []
  },
  {
   "cell_type": "code",
   "execution_count": null,
   "metadata": {},
   "outputs": [],
   "source": []
  },
  {
   "cell_type": "code",
   "execution_count": 102,
   "metadata": {},
   "outputs": [
    {
     "name": "stdout",
     "output_type": "stream",
     "text": [
      "[*********************100%***********************]  1 of 1 completed\n"
     ]
    },
    {
     "data": {
      "text/html": [
       "<div>\n",
       "<style scoped>\n",
       "    .dataframe tbody tr th:only-of-type {\n",
       "        vertical-align: middle;\n",
       "    }\n",
       "\n",
       "    .dataframe tbody tr th {\n",
       "        vertical-align: top;\n",
       "    }\n",
       "\n",
       "    .dataframe thead th {\n",
       "        text-align: right;\n",
       "    }\n",
       "</style>\n",
       "<table border=\"1\" class=\"dataframe\">\n",
       "  <thead>\n",
       "    <tr style=\"text-align: right;\">\n",
       "      <th></th>\n",
       "      <th>Date</th>\n",
       "      <th>Open</th>\n",
       "      <th>High</th>\n",
       "      <th>Low</th>\n",
       "      <th>Close</th>\n",
       "      <th>Adj Close</th>\n",
       "      <th>Volume</th>\n",
       "    </tr>\n",
       "  </thead>\n",
       "  <tbody>\n",
       "    <tr>\n",
       "      <th>0</th>\n",
       "      <td>2011-04-28</td>\n",
       "      <td>491.342560</td>\n",
       "      <td>491.837860</td>\n",
       "      <td>480.445862</td>\n",
       "      <td>481.634583</td>\n",
       "      <td>442.249115</td>\n",
       "      <td>16481230</td>\n",
       "    </tr>\n",
       "    <tr>\n",
       "      <th>1</th>\n",
       "      <td>2011-04-29</td>\n",
       "      <td>482.922363</td>\n",
       "      <td>489.361328</td>\n",
       "      <td>481.089752</td>\n",
       "      <td>487.256287</td>\n",
       "      <td>447.411163</td>\n",
       "      <td>6893126</td>\n",
       "    </tr>\n",
       "  </tbody>\n",
       "</table>\n",
       "</div>"
      ],
      "text/plain": [
       "        Date        Open        High         Low       Close   Adj Close  \\\n",
       "0 2011-04-28  491.342560  491.837860  480.445862  481.634583  442.249115   \n",
       "1 2011-04-29  482.922363  489.361328  481.089752  487.256287  447.411163   \n",
       "\n",
       "     Volume  \n",
       "0  16481230  \n",
       "1   6893126  "
      ]
     },
     "execution_count": 102,
     "metadata": {},
     "output_type": "execute_result"
    }
   ],
   "source": [
    "temp_data = yf.download('RELIANCE'+'.NS',start=start,end=end,threads=True)\n",
    "temp_data = temp_data.reset_index()\n",
    "temp_data.head(2)\n",
    "# [['Date','Close']]\n",
    "# fig = px.line(temp_data,y='Close',x='Date')\n",
    "# st.line_chart(fig)"
   ]
  },
  {
   "cell_type": "code",
   "execution_count": 105,
   "metadata": {},
   "outputs": [
    {
     "data": {
      "text/plain": [
       "0      2011-04-28\n",
       "1      2011-04-29\n",
       "2      2011-05-02\n",
       "3      2011-05-03\n",
       "4      2011-05-04\n",
       "          ...    \n",
       "2455   2021-04-20\n",
       "2456   2021-04-22\n",
       "2457   2021-04-23\n",
       "2458   2021-04-26\n",
       "2459   2021-04-27\n",
       "Name: Date, Length: 2460, dtype: datetime64[ns]"
      ]
     },
     "execution_count": 105,
     "metadata": {},
     "output_type": "execute_result"
    }
   ],
   "source": [
    "temp_data.Date"
   ]
  },
  {
   "cell_type": "code",
   "execution_count": 109,
   "metadata": {},
   "outputs": [
    {
     "name": "stdout",
     "output_type": "stream",
     "text": [
      "[*********************100%***********************]  1 of 1 completed\n"
     ]
    },
    {
     "data": {
      "text/html": [
       "<div>\n",
       "<style scoped>\n",
       "    .dataframe tbody tr th:only-of-type {\n",
       "        vertical-align: middle;\n",
       "    }\n",
       "\n",
       "    .dataframe tbody tr th {\n",
       "        vertical-align: top;\n",
       "    }\n",
       "\n",
       "    .dataframe thead th {\n",
       "        text-align: right;\n",
       "    }\n",
       "</style>\n",
       "<table border=\"1\" class=\"dataframe\">\n",
       "  <thead>\n",
       "    <tr style=\"text-align: right;\">\n",
       "      <th></th>\n",
       "      <th>Datetime</th>\n",
       "      <th>Open</th>\n",
       "      <th>High</th>\n",
       "      <th>Low</th>\n",
       "      <th>Close</th>\n",
       "      <th>Adj Close</th>\n",
       "      <th>Volume</th>\n",
       "    </tr>\n",
       "  </thead>\n",
       "  <tbody>\n",
       "    <tr>\n",
       "      <th>0</th>\n",
       "      <td>2021-04-29 09:15:00+05:30</td>\n",
       "      <td>2020.150024</td>\n",
       "      <td>2043.650024</td>\n",
       "      <td>2019.300049</td>\n",
       "      <td>2024.599976</td>\n",
       "      <td>2024.599976</td>\n",
       "      <td>1448328</td>\n",
       "    </tr>\n",
       "    <tr>\n",
       "      <th>1</th>\n",
       "      <td>2021-04-29 09:30:00+05:30</td>\n",
       "      <td>2024.199951</td>\n",
       "      <td>2031.849976</td>\n",
       "      <td>2023.800049</td>\n",
       "      <td>2026.199951</td>\n",
       "      <td>2026.199951</td>\n",
       "      <td>418449</td>\n",
       "    </tr>\n",
       "  </tbody>\n",
       "</table>\n",
       "</div>"
      ],
      "text/plain": [
       "                   Datetime         Open         High          Low  \\\n",
       "0 2021-04-29 09:15:00+05:30  2020.150024  2043.650024  2019.300049   \n",
       "1 2021-04-29 09:30:00+05:30  2024.199951  2031.849976  2023.800049   \n",
       "\n",
       "         Close    Adj Close   Volume  \n",
       "0  2024.599976  2024.599976  1448328  \n",
       "1  2026.199951  2026.199951   418449  "
      ]
     },
     "execution_count": 109,
     "metadata": {},
     "output_type": "execute_result"
    }
   ],
   "source": [
    "temp_data = yf.download(tickers='RELIANCE'+'.NS', period=\"1d\", interval=\"15m\")\n",
    "temp_data = temp_data.reset_index()\n",
    "temp_data.head(2)#[['Date','Close']]"
   ]
  },
  {
   "cell_type": "code",
   "execution_count": 123,
   "metadata": {},
   "outputs": [
    {
     "data": {
      "text/plain": [
       "'09:15'"
      ]
     },
     "execution_count": 123,
     "metadata": {},
     "output_type": "execute_result"
    }
   ],
   "source": [
    "str(temp_data.Datetime[0])[11:16]"
   ]
  },
  {
   "cell_type": "code",
   "execution_count": null,
   "metadata": {},
   "outputs": [],
   "source": []
  },
  {
   "cell_type": "code",
   "execution_count": null,
   "metadata": {},
   "outputs": [],
   "source": []
  }
 ],
 "metadata": {
  "kernelspec": {
   "display_name": "Python 3",
   "language": "python",
   "name": "python3"
  },
  "language_info": {
   "codemirror_mode": {
    "name": "ipython",
    "version": 3
   },
   "file_extension": ".py",
   "mimetype": "text/x-python",
   "name": "python",
   "nbconvert_exporter": "python",
   "pygments_lexer": "ipython3",
   "version": "3.8.5"
  }
 },
 "nbformat": 4,
 "nbformat_minor": 4
}
